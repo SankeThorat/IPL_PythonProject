{
 "cells": [
  {
   "cell_type": "code",
   "execution_count": 1,
   "id": "88ba1eea",
   "metadata": {},
   "outputs": [],
   "source": [
    "import pandas as pd\n",
    "import numpy as np\n",
    "import matplotlib.pyplot as plt\n",
    "import seaborn as sns"
   ]
  },
  {
   "cell_type": "code",
   "execution_count": 2,
   "id": "8b7e7668",
   "metadata": {},
   "outputs": [],
   "source": [
    "df = pd.read_csv(\"matches_2008-2024(2).csv\")"
   ]
  },
  {
   "cell_type": "code",
   "execution_count": 3,
   "id": "eb910900",
   "metadata": {},
   "outputs": [
    {
     "data": {
      "text/html": [
       "<div>\n",
       "<style scoped>\n",
       "    .dataframe tbody tr th:only-of-type {\n",
       "        vertical-align: middle;\n",
       "    }\n",
       "\n",
       "    .dataframe tbody tr th {\n",
       "        vertical-align: top;\n",
       "    }\n",
       "\n",
       "    .dataframe thead th {\n",
       "        text-align: right;\n",
       "    }\n",
       "</style>\n",
       "<table border=\"1\" class=\"dataframe\">\n",
       "  <thead>\n",
       "    <tr style=\"text-align: right;\">\n",
       "      <th></th>\n",
       "      <th>id</th>\n",
       "      <th>season</th>\n",
       "      <th>city</th>\n",
       "      <th>date</th>\n",
       "      <th>match_type</th>\n",
       "      <th>player_of_match</th>\n",
       "      <th>venue</th>\n",
       "      <th>team1</th>\n",
       "      <th>team2</th>\n",
       "      <th>toss_winner</th>\n",
       "      <th>toss_decision</th>\n",
       "      <th>winner</th>\n",
       "      <th>result</th>\n",
       "      <th>result_margin</th>\n",
       "      <th>target_runs</th>\n",
       "      <th>target_overs</th>\n",
       "      <th>super_over</th>\n",
       "      <th>method</th>\n",
       "      <th>umpire1</th>\n",
       "      <th>umpire2</th>\n",
       "    </tr>\n",
       "  </thead>\n",
       "  <tbody>\n",
       "    <tr>\n",
       "      <th>489</th>\n",
       "      <td>829771</td>\n",
       "      <td>2015</td>\n",
       "      <td>Bangalore</td>\n",
       "      <td>2015-05-02</td>\n",
       "      <td>League</td>\n",
       "      <td>Mandeep Singh</td>\n",
       "      <td>M Chinnaswamy Stadium</td>\n",
       "      <td>Royal Challengers Bangalore</td>\n",
       "      <td>Kolkata Knight Riders</td>\n",
       "      <td>Royal Challengers Bangalore</td>\n",
       "      <td>field</td>\n",
       "      <td>Royal Challengers Bangalore</td>\n",
       "      <td>wickets</td>\n",
       "      <td>7.0</td>\n",
       "      <td>112.0</td>\n",
       "      <td>10.0</td>\n",
       "      <td>N</td>\n",
       "      <td>NaN</td>\n",
       "      <td>JD Cloete</td>\n",
       "      <td>PG Pathak</td>\n",
       "    </tr>\n",
       "  </tbody>\n",
       "</table>\n",
       "</div>"
      ],
      "text/plain": [
       "         id  season       city        date match_type player_of_match  \\\n",
       "489  829771    2015  Bangalore  2015-05-02     League   Mandeep Singh   \n",
       "\n",
       "                     venue                        team1  \\\n",
       "489  M Chinnaswamy Stadium  Royal Challengers Bangalore   \n",
       "\n",
       "                     team2                  toss_winner toss_decision  \\\n",
       "489  Kolkata Knight Riders  Royal Challengers Bangalore         field   \n",
       "\n",
       "                          winner   result  result_margin  target_runs  \\\n",
       "489  Royal Challengers Bangalore  wickets            7.0        112.0   \n",
       "\n",
       "     target_overs super_over method    umpire1    umpire2  \n",
       "489          10.0          N    NaN  JD Cloete  PG Pathak  "
      ]
     },
     "execution_count": 3,
     "metadata": {},
     "output_type": "execute_result"
    }
   ],
   "source": [
    "df.sample()"
   ]
  },
  {
   "cell_type": "code",
   "execution_count": 4,
   "id": "2d9ae883",
   "metadata": {},
   "outputs": [],
   "source": [
    "# 📊 Exploration"
   ]
  },
  {
   "cell_type": "code",
   "execution_count": 5,
   "id": "37a5c874",
   "metadata": {},
   "outputs": [],
   "source": [
    "# 1. Matches played in each city"
   ]
  },
  {
   "cell_type": "code",
   "execution_count": 6,
   "id": "3e770c59",
   "metadata": {},
   "outputs": [
    {
     "name": "stdout",
     "output_type": "stream",
     "text": [
      "\n",
      "Matches played in each city:\n",
      "city\n",
      "Mumbai            173\n",
      "Kolkata            93\n",
      "Delhi              90\n",
      "Chennai            85\n",
      "Hyderabad          77\n",
      "Bangalore          65\n",
      "Chandigarh         61\n",
      "Jaipur             57\n",
      "Pune               51\n",
      "Abu Dhabi          37\n",
      "Ahmedabad          36\n",
      "Bengaluru          29\n",
      "Durban             15\n",
      "Visakhapatnam      15\n",
      "Lucknow            14\n",
      "Dubai              13\n",
      "Dharamsala         13\n",
      "Centurion          12\n",
      "Rajkot             10\n",
      "Sharjah            10\n",
      "Indore              9\n",
      "Navi Mumbai         9\n",
      "Johannesburg        8\n",
      "Cuttack             7\n",
      "Port Elizabeth      7\n",
      "Ranchi              7\n",
      "Cape Town           7\n",
      "Raipur              6\n",
      "Mohali              5\n",
      "Kochi               5\n",
      "Kanpur              4\n",
      "Kimberley           3\n",
      "East London         3\n",
      "Guwahati            3\n",
      "Nagpur              3\n",
      "Bloemfontein        2\n",
      "Name: count, dtype: int64\n"
     ]
    }
   ],
   "source": [
    "matches_per_city = df['city'].value_counts()\n",
    "print(\"\\nMatches played in each city:\")\n",
    "print(matches_per_city)"
   ]
  },
  {
   "cell_type": "code",
   "execution_count": 7,
   "id": "df452a71",
   "metadata": {},
   "outputs": [],
   "source": [
    "# 2. Average target score"
   ]
  },
  {
   "cell_type": "code",
   "execution_count": 8,
   "id": "dd1f432c",
   "metadata": {},
   "outputs": [
    {
     "name": "stdout",
     "output_type": "stream",
     "text": [
      "\n",
      "Average target score: 165.68406593406593\n"
     ]
    }
   ],
   "source": [
    "average_target_score = df['target_runs'].mean()\n",
    "print(\"\\nAverage target score:\", average_target_score)"
   ]
  },
  {
   "cell_type": "code",
   "execution_count": 9,
   "id": "307c6390",
   "metadata": {},
   "outputs": [],
   "source": [
    "# 3. Matches each team won"
   ]
  },
  {
   "cell_type": "code",
   "execution_count": 10,
   "id": "e23b67cb",
   "metadata": {},
   "outputs": [
    {
     "name": "stdout",
     "output_type": "stream",
     "text": [
      "\n",
      "Matches won by each team:\n",
      "winner\n",
      "Mumbai Indians                 144\n",
      "Chennai Super Kings            138\n",
      "Kolkata Knight Riders          131\n",
      "Royal Challengers Bangalore    116\n",
      "Rajasthan Royals               112\n",
      "Kings XI Punjab                 88\n",
      "Sunrisers Hyderabad             88\n",
      "Delhi Daredevils                67\n",
      "Delhi Capitals                  48\n",
      "Deccan Chargers                 29\n",
      "Gujarat Titans                  28\n",
      "Lucknow Super Giants            24\n",
      "Punjab Kings                    24\n",
      "Gujarat Lions                   13\n",
      "Pune Warriors                   12\n",
      "Rising Pune Supergiant          10\n",
      "Royal Challengers Bengaluru      7\n",
      "Kochi Tuskers Kerala             6\n",
      "Rising Pune Supergiants          5\n",
      "Name: count, dtype: int64\n"
     ]
    }
   ],
   "source": [
    "wins_per_team = df['winner'].value_counts()\n",
    "print(\"\\nMatches won by each team:\")\n",
    "print(wins_per_team)"
   ]
  },
  {
   "cell_type": "code",
   "execution_count": 11,
   "id": "ee119fdc",
   "metadata": {},
   "outputs": [],
   "source": [
    "# 4. Player with most \"Player of the Match\" awards "
   ]
  },
  {
   "cell_type": "code",
   "execution_count": 12,
   "id": "91e9c074",
   "metadata": {},
   "outputs": [
    {
     "name": "stdout",
     "output_type": "stream",
     "text": [
      "\n",
      "Player with most Player of the Match awards: AB de Villiers\n"
     ]
    }
   ],
   "source": [
    "most_pom = df['player_of_match'].value_counts().idxmax()\n",
    "print(\"\\nPlayer with most Player of the Match awards:\", most_pom)"
   ]
  },
  {
   "cell_type": "code",
   "execution_count": 13,
   "id": "9affe9d3",
   "metadata": {},
   "outputs": [],
   "source": [
    "# 5. Venue with most matches"
   ]
  },
  {
   "cell_type": "code",
   "execution_count": 14,
   "id": "28942698",
   "metadata": {},
   "outputs": [
    {
     "name": "stdout",
     "output_type": "stream",
     "text": [
      "\n",
      "Venue with most matches: Eden Gardens\n"
     ]
    }
   ],
   "source": [
    "venue_most_matches = df['venue'].value_counts().idxmax()\n",
    "print(\"\\nVenue with most matches:\", venue_most_matches)"
   ]
  },
  {
   "cell_type": "code",
   "execution_count": 15,
   "id": "0b679218",
   "metadata": {},
   "outputs": [],
   "source": [
    "# 📟 Statistics & Aggregation"
   ]
  },
  {
   "cell_type": "code",
   "execution_count": 16,
   "id": "6e80de4e",
   "metadata": {},
   "outputs": [],
   "source": [
    "# 6. Mean, median, std dev of result_margin for matches won by runs"
   ]
  },
  {
   "cell_type": "code",
   "execution_count": 17,
   "id": "d972628c",
   "metadata": {},
   "outputs": [
    {
     "name": "stdout",
     "output_type": "stream",
     "text": [
      "\n",
      "Result margin statistics for matches won by runs:\n",
      "mean      30.104418\n",
      "median    22.000000\n",
      "std       26.739844\n",
      "Name: result_margin, dtype: float64\n"
     ]
    }
   ],
   "source": [
    "won_by_runs = df[df['result'] == 'runs']\n",
    "margin_stats = won_by_runs['result_margin'].agg(['mean', 'median', 'std'])\n",
    "print(\"\\nResult margin statistics for matches won by runs:\")\n",
    "print(margin_stats)"
   ]
  },
  {
   "cell_type": "code",
   "execution_count": 18,
   "id": "7104f460",
   "metadata": {},
   "outputs": [],
   "source": [
    "# 7. Correlation between target_runs and result_margin (for run wins only)"
   ]
  },
  {
   "cell_type": "code",
   "execution_count": 19,
   "id": "d7b995cc",
   "metadata": {},
   "outputs": [
    {
     "name": "stdout",
     "output_type": "stream",
     "text": [
      "\n",
      "Correlation between target_runs and result_margin (runs only): 0.36125599534288383\n"
     ]
    }
   ],
   "source": [
    "correlation = won_by_runs[['target_runs', 'result_margin']].corr().loc['target_runs', 'result_margin']\n",
    "print(\"\\nCorrelation between target_runs and result_margin (runs only):\", correlation)"
   ]
  },
  {
   "cell_type": "code",
   "execution_count": 20,
   "id": "56301d4f",
   "metadata": {},
   "outputs": [],
   "source": [
    "# 8. Win percentage of each team"
   ]
  },
  {
   "cell_type": "code",
   "execution_count": 21,
   "id": "ffd45313",
   "metadata": {},
   "outputs": [
    {
     "name": "stdout",
     "output_type": "stream",
     "text": [
      "\n",
      "Win percentage of each team:\n",
      "Rising Pune Supergiant         62.500000\n",
      "Gujarat Titans                 62.222222\n",
      "Chennai Super Kings            57.983193\n",
      "Mumbai Indians                 55.172414\n",
      "Lucknow Super Giants           54.545455\n",
      "Delhi Capitals                 52.747253\n",
      "Kolkata Knight Riders          52.191235\n",
      "Rajasthan Royals               50.678733\n",
      "Sunrisers Hyderabad            48.351648\n",
      "Royal Challengers Bangalore    48.333333\n",
      "Royal Challengers Bengaluru    46.666667\n",
      "Kings XI Punjab                46.315789\n",
      "Gujarat Lions                  43.333333\n",
      "Kochi Tuskers Kerala           42.857143\n",
      "Punjab Kings                   42.857143\n",
      "Delhi Daredevils               41.614907\n",
      "Deccan Chargers                38.666667\n",
      "Rising Pune Supergiants        35.714286\n",
      "Pune Warriors                  26.086957\n",
      "Name: count, dtype: float64\n"
     ]
    }
   ],
   "source": [
    "matches_played = df['team1'].value_counts() + df['team2'].value_counts()\n",
    "win_percentage = (wins_per_team / matches_played * 100).dropna().sort_values(ascending=False)\n",
    "print(\"\\nWin percentage of each team:\")\n",
    "print(win_percentage)"
   ]
  },
  {
   "cell_type": "code",
   "execution_count": 22,
   "id": "6ceaf89b",
   "metadata": {},
   "outputs": [],
   "source": [
    "# 9. Distribution of matches won by wickets vs. runs"
   ]
  },
  {
   "cell_type": "code",
   "execution_count": 23,
   "id": "15a184f8",
   "metadata": {},
   "outputs": [
    {
     "name": "stdout",
     "output_type": "stream",
     "text": [
      "\n",
      "Win type distribution:\n",
      "result\n",
      "wickets      578\n",
      "runs         498\n",
      "tie           14\n",
      "no result      5\n",
      "Name: count, dtype: int64\n"
     ]
    }
   ],
   "source": [
    "win_type_distribution = df['result'].value_counts()\n",
    "print(\"\\nWin type distribution:\")\n",
    "print(win_type_distribution)"
   ]
  },
  {
   "cell_type": "code",
   "execution_count": 24,
   "id": "71c852d4",
   "metadata": {},
   "outputs": [],
   "source": [
    "# 10. Avg target score by toss decision"
   ]
  },
  {
   "cell_type": "code",
   "execution_count": 25,
   "id": "9b3ed851",
   "metadata": {},
   "outputs": [
    {
     "name": "stdout",
     "output_type": "stream",
     "text": [
      "\n",
      "Average target score by toss decision:\n",
      "toss_decision\n",
      "bat      160.653846\n",
      "field    168.478632\n",
      "Name: target_runs, dtype: float64\n"
     ]
    }
   ],
   "source": [
    "avg_target_by_toss = df.groupby('toss_decision')['target_runs'].mean()\n",
    "print(\"\\nAverage target score by toss decision:\")\n",
    "print(avg_target_by_toss)"
   ]
  },
  {
   "cell_type": "code",
   "execution_count": 26,
   "id": "64a14911",
   "metadata": {},
   "outputs": [],
   "source": [
    "# 🔍 Filtering & Grouping"
   ]
  },
  {
   "cell_type": "code",
   "execution_count": 27,
   "id": "2cc64777",
   "metadata": {},
   "outputs": [],
   "source": [
    "# 11. Matches that went to super over"
   ]
  },
  {
   "cell_type": "code",
   "execution_count": 28,
   "id": "762b59d8",
   "metadata": {},
   "outputs": [
    {
     "name": "stdout",
     "output_type": "stream",
     "text": [
      "\n",
      "Number of matches that went into super over: 0\n"
     ]
    }
   ],
   "source": [
    "super_over_matches = df[df['super_over'] == True]\n",
    "print(\"\\nNumber of matches that went into super over:\", super_over_matches.shape[0])"
   ]
  },
  {
   "cell_type": "code",
   "execution_count": 29,
   "id": "424dd858",
   "metadata": {},
   "outputs": [],
   "source": [
    "# 12. Umpire pairings"
   ]
  },
  {
   "cell_type": "code",
   "execution_count": 30,
   "id": "7f758af2",
   "metadata": {},
   "outputs": [
    {
     "name": "stdout",
     "output_type": "stream",
     "text": [
      "\n",
      "Umpire pair that officiated the most matches: ('S Ravi', 'RJ Tucker')\n"
     ]
    }
   ],
   "source": [
    "umpire_pairs = df[['umpire1', 'umpire2']].dropna()\n",
    "umpire_pairs['pair'] = list(zip(umpire_pairs['umpire1'], umpire_pairs['umpire2']))\n",
    "umpire_pair_counts = umpire_pairs['pair'].value_counts()\n",
    "most_common_pair = umpire_pair_counts.idxmax()\n",
    "print(\"\\nUmpire pair that officiated the most matches:\", most_common_pair)"
   ]
  },
  {
   "cell_type": "code",
   "execution_count": 31,
   "id": "01f865a2",
   "metadata": {},
   "outputs": [],
   "source": [
    "# 13. Match with highest result margin"
   ]
  },
  {
   "cell_type": "code",
   "execution_count": 32,
   "id": "ae468b41",
   "metadata": {},
   "outputs": [
    {
     "name": "stdout",
     "output_type": "stream",
     "text": [
      "\n",
      "Match with highest result margin:\n",
      "id                      1082635\n",
      "winner           Mumbai Indians\n",
      "result_margin             146.0\n",
      "result                     runs\n",
      "Name: 620, dtype: object\n"
     ]
    }
   ],
   "source": [
    "highest_margin_match = df.loc[df['result_margin'].idxmax()]\n",
    "print(\"\\nMatch with highest result margin:\")\n",
    "print(highest_margin_match[['id', 'winner', 'result_margin', 'result']])"
   ]
  },
  {
   "cell_type": "code",
   "execution_count": 33,
   "id": "2de2ec45",
   "metadata": {},
   "outputs": [],
   "source": [
    "# 14. Toss decision that led to more wins"
   ]
  },
  {
   "cell_type": "code",
   "execution_count": 34,
   "id": "081da6be",
   "metadata": {},
   "outputs": [
    {
     "name": "stdout",
     "output_type": "stream",
     "text": [
      "\n",
      "Wins after winning toss by decision:\n",
      "toss_decision\n",
      "bat      177\n",
      "field    377\n",
      "dtype: int64\n"
     ]
    }
   ],
   "source": [
    "df['toss_win_match_win'] = df['toss_winner'] == df['winner']\n",
    "toss_decision_wins = df[df['toss_win_match_win']].groupby('toss_decision').size()\n",
    "print(\"\\nWins after winning toss by decision:\")\n",
    "print(toss_decision_wins)"
   ]
  },
  {
   "cell_type": "code",
   "execution_count": 35,
   "id": "5d881ea0",
   "metadata": {},
   "outputs": [],
   "source": [
    "# 15. Win ratio when winning the toss"
   ]
  },
  {
   "cell_type": "code",
   "execution_count": 36,
   "id": "8794ce28",
   "metadata": {},
   "outputs": [
    {
     "name": "stdout",
     "output_type": "stream",
     "text": [
      "\n",
      "Teams with highest win ratio when winning the toss:\n",
      "toss_winner\n",
      "Rising Pune Supergiant         83.333333\n",
      "Gujarat Lions                  66.666667\n",
      "Gujarat Titans                 63.636364\n",
      "Chennai Super Kings            61.475410\n",
      "Kolkata Knight Riders          55.737705\n",
      "Mumbai Indians                 54.545455\n",
      "Lucknow Super Giants           52.631579\n",
      "Delhi Capitals                 52.000000\n",
      "Royal Challengers Bangalore    50.442478\n",
      "Kochi Tuskers Kerala           50.000000\n",
      "Rajasthan Royals               50.000000\n",
      "Royal Challengers Bengaluru    50.000000\n",
      "Deccan Chargers                44.186047\n",
      "Delhi Daredevils               43.750000\n",
      "Sunrisers Hyderabad            43.181818\n",
      "Rising Pune Supergiants        42.857143\n",
      "Kings XI Punjab                42.352941\n",
      "Punjab Kings                   37.500000\n",
      "Pune Warriors                  15.000000\n",
      "Name: count, dtype: float64\n"
     ]
    }
   ],
   "source": [
    "toss_wins = df['toss_winner'].value_counts()\n",
    "toss_and_match_wins = df[df['toss_winner'] == df['winner']]['toss_winner'].value_counts()\n",
    "toss_win_ratio = (toss_and_match_wins / toss_wins * 100).sort_values(ascending=False)\n",
    "print(\"\\nTeams with highest win ratio when winning the toss:\")\n",
    "print(toss_win_ratio)"
   ]
  }
 ],
 "metadata": {
  "kernelspec": {
   "display_name": "Python 3 (ipykernel)",
   "language": "python",
   "name": "python3"
  },
  "language_info": {
   "codemirror_mode": {
    "name": "ipython",
    "version": 3
   },
   "file_extension": ".py",
   "mimetype": "text/x-python",
   "name": "python",
   "nbconvert_exporter": "python",
   "pygments_lexer": "ipython3",
   "version": "3.11.5"
  }
 },
 "nbformat": 4,
 "nbformat_minor": 5
}
